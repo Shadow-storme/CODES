{
 "cells": [
  {
   "cell_type": "code",
   "execution_count": null,
   "metadata": {},
   "outputs": [],
   "source": []
  }
 ],
 "metadata": {
  "kernelspec": {
   "display_name": "Python 3",
   "language": "python",
   "name": "python3"
  },
  "language_info": {
   "name": "python",
   "version": "3.11.1"
  },
  "orig_nbformat": 4,
  "vscode": {
   "interpreter": {
    "hash": "0c64b404bf12c8548f8ed5f3e6e22e678a0dc7e1070088c28570119a35e6a8a5"
   }
  }
 },
 "nbformat": 4,
 "nbformat_minor": 2
}
